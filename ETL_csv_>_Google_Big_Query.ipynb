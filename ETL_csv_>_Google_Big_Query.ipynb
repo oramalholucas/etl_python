Desenvolvimento em um Notebook Python do Google Colaboratory.
